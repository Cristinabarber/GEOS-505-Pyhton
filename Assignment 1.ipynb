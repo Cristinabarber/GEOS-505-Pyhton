{
 "cells": [
  {
   "cell_type": "markdown",
   "metadata": {},
   "source": [
    "# GEOS 505 Assignment 1\n",
    "## Recruitment on Azuero Peninsula\n",
    "### October 11th, 2018"
   ]
  },
  {
   "cell_type": "markdown",
   "metadata": {},
   "source": [
    "#### 1. Data set description\n",
    "The dataset used for this assignment is the outcome from my 2018 summer fieldwork and includes a recruitment inventory of five dominant species of sizes between 5 mm to 50 mm DBH. The five species are Cedrela odorata, Guazuma ulmifolia, Byrsonima crassifolia, Enterolobium cyclocarpum and Calycophyllum candidissimum. \n",
    "This objective of my research is to model recruitment based on parent trees. This data base provides information of recruitment on a wide spatial range making possible to model also the spatial variability existing on the lanscape.\n",
    "\n",
    "The file has CSV format separated with \";\".\n",
    "\n",
    "Variables explanation:\n",
    "\n",
    "Area= Fenced property belonging to the same owner\n",
    "\n",
    "Transect= Identification code for transects\n",
    "\n",
    "Type= Type of ecosystem. 1 is Pasture, 2 is river and 3 is forest\n",
    "\n",
    "Tree= Identification code for tree\n",
    "\n",
    "Trunk= Branch or measured trunk\n",
    "\n",
    "Species= Species code composed by the first 4 letters from the genus and two first letters from the species\n",
    "\n",
    "DB1= Basal diameter first measurement\n",
    "\n",
    "DB2=Basal diameter second measurement\n",
    "\n",
    "DBH1= Diameter at the breast height first measurement\n",
    "\n",
    "DBH2= Diameter at the breast height second measurement\n",
    "\n",
    "x= X axis coordinates\n",
    "\n",
    "y= Y axis coordinates\n",
    "\n",
    "Transect side= If it belongs to the 5 meter transect or to the 10 m transect\n"
   ]
  },
  {
   "cell_type": "markdown",
   "metadata": {},
   "source": [
    "#### 2. Importing the data set\n",
    "The data was reviewed and the coordinates review using a GIS on a tablet to probe that the locations took on the field corresponds with reality.\n",
    "The data did not go through further processing.\n",
    "\n",
    "I used panda to import my data as it is a widely used library that allows to read csv files with a relatively simple code and clear instructions. Other option to import the file I found was csv library, but the instructions on how to code it and the code itself were more complicated (and long).\n",
    "Other option code:\n",
    "\n",
    "import csv\n",
    "\n",
    "with open('inventory_data') as csv_file:\n",
    "    csv_reader = csv.reader(csv_file, delimiter=';')\n",
    "    "
   ]
  },
  {
   "cell_type": "code",
   "execution_count": 1,
   "metadata": {},
   "outputs": [],
   "source": [
    "import numpy as np\n",
    "import pandas as pd\n",
    "import matplotlib.pyplot as plt\n",
    "import matplotlib.dates as mdates\n",
    "inventory_data='Azuero_recruitment_recruits.csv'"
   ]
  },
  {
   "cell_type": "code",
   "execution_count": 29,
   "metadata": {},
   "outputs": [
    {
     "name": "stdout",
     "output_type": "stream",
     "text": [
      "   Area  Transect  Type  Tree Trunk Species    DB1    DB2   DBH1   DBH2  \\\n",
      "0     1        13     3   302     A  CEDROD  10,42   9,78      -      -   \n",
      "1     1        13     3   303     A  CEDROD  14,39  14,15      -      -   \n",
      "2     1        13     3   304     A  GUAZUL  49,24  42,97  28,81  25,24   \n",
      "3     1        13     3   304     B  GUAZUL  41,38  41,69  29,41  31,16   \n",
      "\n",
      "        x       y  Transect_side  \n",
      "0  594041  820656              1  \n",
      "1  594038  820654              1  \n",
      "2  594028  820667              1  \n",
      "3  594028  820667              1  \n"
     ]
    }
   ],
   "source": [
    "rc=pd.read_csv(inventory_data, sep=';')\n",
    "rc.drop('Unnamed: 13', axis=1,inplace=True)\n",
    "print(rc[0:4])"
   ]
  },
  {
   "cell_type": "markdown",
   "metadata": {},
   "source": [
    "#### 3. Visualization\n",
    "\n",
    "I am going to do a first exploration of the data. First I want to see how many individuals I have from each species. This will help me to determine how even is my data base and if I have an enough big sample size. Also, I will explore which is the size range for each species and the variablity between sizes. This will give me a sense of how complete is the data on the sense of a continuos measurement of sizes."
   ]
  },
  {
   "cell_type": "code",
   "execution_count": 3,
   "metadata": {},
   "outputs": [
    {
     "data": {
      "text/plain": [
       "Text(0,0.5,'Total amount of individuals')"
      ]
     },
     "execution_count": 3,
     "metadata": {},
     "output_type": "execute_result"
    },
    {
     "data": {
      "image/png": "[encoded data removed]",
      "text/plain": [
       "<Figure size 432x288 with 1 Axes>"
      ]
     },
     "metadata": {
      "needs_background": "light"
     },
     "output_type": "display_data"
    }
   ],
   "source": [
    "sp=rc['Species'].values\n",
    "type(rc['Species'])\n",
    "sp2=sp.astype(str)\n",
    "C=np.count_nonzero(sp2=='CEDROD')\n",
    "B=np.count_nonzero(sp2=='BYRSCR')\n",
    "CA=np.count_nonzero(sp2=='CAL2CA')\n",
    "E=np.count_nonzero(sp2=='ENTECY')\n",
    "G=np.count_nonzero(sp2=='GUAZUL')\n",
    "species=np.array(['CEDROD','GUAZUL','CAL2CA','BYRSCR','ENTECY'])\n",
    "count=np.array([C,G,CA,B,E])\n",
    "sc=plt.bar(species,count)\n",
    "plt.ylabel('Total amount of individuals')"
   ]
  },
  {
   "cell_type": "code",
   "execution_count": 4,
   "metadata": {},
   "outputs": [
    {
     "data": {
      "image/png": "[encoded data removed]",
      "text/plain": [
       "<Figure size 432x288 with 1 Axes>"
      ]
     },
     "metadata": {
      "needs_background": "light"
     },
     "output_type": "display_data"
    }
   ],
   "source": [
    "ssize=plt.scatter(sp2,rc['DB1'])\n",
    "plt.yscale('linear')"
   ]
  },
  {
   "cell_type": "markdown",
   "metadata": {},
   "source": [
    "The graph shows some unevenness of recruitment in the landscape with a high amount of Cedrela odorata individuals. This could indicate that Cedrela early survival rate is higher than the other species.\n",
    "\n",
    "Enterolobium cyclocarpum has the lower amount of individuals, but it seems to have a good range of sizes, which indicates that is not due to a detectability problem. Although we can observe some gaps in size range, it seems to be a representative data set of recruitment."
   ]
  }
 ],
 "metadata": {
  "kernelspec": {
   "display_name": "Python 3",
   "language": "python",
   "name": "python3"
  },
  "language_info": {
   "codemirror_mode": {
    "name": "ipython",
    "version": 3
   },
   "file_extension": ".py",
   "mimetype": "text/x-python",
   "name": "python",
   "nbconvert_exporter": "python",
   "pygments_lexer": "ipython3",
   "version": "3.7.0"
  }
 },
 "nbformat": 4,
 "nbformat_minor": 2
}
